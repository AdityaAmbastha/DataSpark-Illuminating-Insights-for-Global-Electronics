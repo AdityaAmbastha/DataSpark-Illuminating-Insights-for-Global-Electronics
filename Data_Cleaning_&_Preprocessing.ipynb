{
 "cells": [
  {
   "cell_type": "code",
   "execution_count": 4,
   "metadata": {},
   "outputs": [],
   "source": [
    "import pandas as pd\n",
    "from datetime import datetime"
   ]
  },
  {
   "cell_type": "code",
   "execution_count": 5,
   "metadata": {},
   "outputs": [],
   "source": [
    "customers = pd.read_csv('Customers.csv', encoding='unicode_escape')\n",
    "products = pd.read_csv('Products.csv')\n",
    "sales = pd.read_csv('Sales.csv')\n",
    "stores = pd.read_csv('Stores.csv')\n",
    "exchange_rates = pd.read_csv('Exchange_Rates.csv')"
   ]
  },
  {
   "cell_type": "code",
   "execution_count": 4,
   "metadata": {},
   "outputs": [
    {
     "name": "stdout",
     "output_type": "stream",
     "text": [
      "<class 'pandas.core.frame.DataFrame'>\n",
      "RangeIndex: 15266 entries, 0 to 15265\n",
      "Data columns (total 10 columns):\n",
      " #   Column       Non-Null Count  Dtype \n",
      "---  ------       --------------  ----- \n",
      " 0   CustomerKey  15266 non-null  int64 \n",
      " 1   Gender       15266 non-null  object\n",
      " 2   Name         15266 non-null  object\n",
      " 3   City         15266 non-null  object\n",
      " 4   State Code   15256 non-null  object\n",
      " 5   State        15266 non-null  object\n",
      " 6   Zip Code     15266 non-null  object\n",
      " 7   Country      15266 non-null  object\n",
      " 8   Continent    15266 non-null  object\n",
      " 9   Birthday     15266 non-null  object\n",
      "dtypes: int64(1), object(9)\n",
      "memory usage: 1.2+ MB\n"
     ]
    }
   ],
   "source": [
    "customers.info()"
   ]
  },
  {
   "cell_type": "code",
   "execution_count": 5,
   "metadata": {},
   "outputs": [
    {
     "data": {
      "text/html": [
       "<div>\n",
       "<style scoped>\n",
       "    .dataframe tbody tr th:only-of-type {\n",
       "        vertical-align: middle;\n",
       "    }\n",
       "\n",
       "    .dataframe tbody tr th {\n",
       "        vertical-align: top;\n",
       "    }\n",
       "\n",
       "    .dataframe thead th {\n",
       "        text-align: right;\n",
       "    }\n",
       "</style>\n",
       "<table border=\"1\" class=\"dataframe\">\n",
       "  <thead>\n",
       "    <tr style=\"text-align: right;\">\n",
       "      <th></th>\n",
       "      <th>CustomerKey</th>\n",
       "      <th>Gender</th>\n",
       "      <th>Name</th>\n",
       "      <th>City</th>\n",
       "      <th>State Code</th>\n",
       "      <th>State</th>\n",
       "      <th>Zip Code</th>\n",
       "      <th>Country</th>\n",
       "      <th>Continent</th>\n",
       "      <th>Birthday</th>\n",
       "    </tr>\n",
       "  </thead>\n",
       "  <tbody>\n",
       "    <tr>\n",
       "      <th>5304</th>\n",
       "      <td>729681</td>\n",
       "      <td>Female</td>\n",
       "      <td>Rossana Padovesi</td>\n",
       "      <td>Polvica</td>\n",
       "      <td>NaN</td>\n",
       "      <td>Napoli</td>\n",
       "      <td>80035</td>\n",
       "      <td>Italy</td>\n",
       "      <td>Europe</td>\n",
       "      <td>4/18/1981</td>\n",
       "    </tr>\n",
       "    <tr>\n",
       "      <th>5316</th>\n",
       "      <td>732289</td>\n",
       "      <td>Male</td>\n",
       "      <td>Indro Piccio</td>\n",
       "      <td>Varcaturo</td>\n",
       "      <td>NaN</td>\n",
       "      <td>Napoli</td>\n",
       "      <td>80014</td>\n",
       "      <td>Italy</td>\n",
       "      <td>Europe</td>\n",
       "      <td>2/24/1949</td>\n",
       "    </tr>\n",
       "    <tr>\n",
       "      <th>5372</th>\n",
       "      <td>742042</td>\n",
       "      <td>Male</td>\n",
       "      <td>Amaranto Loggia</td>\n",
       "      <td>Casaferro</td>\n",
       "      <td>NaN</td>\n",
       "      <td>Napoli</td>\n",
       "      <td>80034</td>\n",
       "      <td>Italy</td>\n",
       "      <td>Europe</td>\n",
       "      <td>3/14/1936</td>\n",
       "    </tr>\n",
       "    <tr>\n",
       "      <th>5377</th>\n",
       "      <td>742886</td>\n",
       "      <td>Female</td>\n",
       "      <td>Edmonda Capon</td>\n",
       "      <td>Terzigno</td>\n",
       "      <td>NaN</td>\n",
       "      <td>Napoli</td>\n",
       "      <td>80040</td>\n",
       "      <td>Italy</td>\n",
       "      <td>Europe</td>\n",
       "      <td>8/6/1963</td>\n",
       "    </tr>\n",
       "    <tr>\n",
       "      <th>5378</th>\n",
       "      <td>743343</td>\n",
       "      <td>Female</td>\n",
       "      <td>Ambra Sagese</td>\n",
       "      <td>Pomigliano D'Arco</td>\n",
       "      <td>NaN</td>\n",
       "      <td>Napoli</td>\n",
       "      <td>80038</td>\n",
       "      <td>Italy</td>\n",
       "      <td>Europe</td>\n",
       "      <td>1/5/1961</td>\n",
       "    </tr>\n",
       "    <tr>\n",
       "      <th>5485</th>\n",
       "      <td>759705</td>\n",
       "      <td>Male</td>\n",
       "      <td>Callisto Lo Duca</td>\n",
       "      <td>Casilli</td>\n",
       "      <td>NaN</td>\n",
       "      <td>Napoli</td>\n",
       "      <td>80047</td>\n",
       "      <td>Italy</td>\n",
       "      <td>Europe</td>\n",
       "      <td>8/28/1976</td>\n",
       "    </tr>\n",
       "    <tr>\n",
       "      <th>5525</th>\n",
       "      <td>765589</td>\n",
       "      <td>Male</td>\n",
       "      <td>Michelino Lucchesi</td>\n",
       "      <td>Pompei Scavi</td>\n",
       "      <td>NaN</td>\n",
       "      <td>Napoli</td>\n",
       "      <td>80045</td>\n",
       "      <td>Italy</td>\n",
       "      <td>Europe</td>\n",
       "      <td>11/13/1947</td>\n",
       "    </tr>\n",
       "    <tr>\n",
       "      <th>5531</th>\n",
       "      <td>766410</td>\n",
       "      <td>Male</td>\n",
       "      <td>Adelmio Beneventi</td>\n",
       "      <td>Licola</td>\n",
       "      <td>NaN</td>\n",
       "      <td>Napoli</td>\n",
       "      <td>80078</td>\n",
       "      <td>Italy</td>\n",
       "      <td>Europe</td>\n",
       "      <td>1/13/1940</td>\n",
       "    </tr>\n",
       "    <tr>\n",
       "      <th>5631</th>\n",
       "      <td>781667</td>\n",
       "      <td>Female</td>\n",
       "      <td>Ilda Manna</td>\n",
       "      <td>Napoli</td>\n",
       "      <td>NaN</td>\n",
       "      <td>Napoli</td>\n",
       "      <td>80134</td>\n",
       "      <td>Italy</td>\n",
       "      <td>Europe</td>\n",
       "      <td>5/8/1977</td>\n",
       "    </tr>\n",
       "    <tr>\n",
       "      <th>5695</th>\n",
       "      <td>789177</td>\n",
       "      <td>Male</td>\n",
       "      <td>Calogero Folliero</td>\n",
       "      <td>Mariglianella</td>\n",
       "      <td>NaN</td>\n",
       "      <td>Napoli</td>\n",
       "      <td>80030</td>\n",
       "      <td>Italy</td>\n",
       "      <td>Europe</td>\n",
       "      <td>3/3/2000</td>\n",
       "    </tr>\n",
       "  </tbody>\n",
       "</table>\n",
       "</div>"
      ],
      "text/plain": [
       "      CustomerKey  Gender                Name               City State Code  \\\n",
       "5304       729681  Female    Rossana Padovesi            Polvica        NaN   \n",
       "5316       732289    Male        Indro Piccio          Varcaturo        NaN   \n",
       "5372       742042    Male     Amaranto Loggia          Casaferro        NaN   \n",
       "5377       742886  Female       Edmonda Capon           Terzigno        NaN   \n",
       "5378       743343  Female        Ambra Sagese  Pomigliano D'Arco        NaN   \n",
       "5485       759705    Male    Callisto Lo Duca            Casilli        NaN   \n",
       "5525       765589    Male  Michelino Lucchesi       Pompei Scavi        NaN   \n",
       "5531       766410    Male   Adelmio Beneventi             Licola        NaN   \n",
       "5631       781667  Female          Ilda Manna             Napoli        NaN   \n",
       "5695       789177    Male   Calogero Folliero      Mariglianella        NaN   \n",
       "\n",
       "       State Zip Code Country Continent    Birthday  \n",
       "5304  Napoli    80035   Italy    Europe   4/18/1981  \n",
       "5316  Napoli    80014   Italy    Europe   2/24/1949  \n",
       "5372  Napoli    80034   Italy    Europe   3/14/1936  \n",
       "5377  Napoli    80040   Italy    Europe    8/6/1963  \n",
       "5378  Napoli    80038   Italy    Europe    1/5/1961  \n",
       "5485  Napoli    80047   Italy    Europe   8/28/1976  \n",
       "5525  Napoli    80045   Italy    Europe  11/13/1947  \n",
       "5531  Napoli    80078   Italy    Europe   1/13/1940  \n",
       "5631  Napoli    80134   Italy    Europe    5/8/1977  \n",
       "5695  Napoli    80030   Italy    Europe    3/3/2000  "
      ]
     },
     "execution_count": 5,
     "metadata": {},
     "output_type": "execute_result"
    }
   ],
   "source": [
    "# printing rows with 'state code' column having null value\n",
    "customers[customers['State Code'].isnull()]"
   ]
  },
  {
   "cell_type": "code",
   "execution_count": 6,
   "metadata": {},
   "outputs": [],
   "source": [
    "# The state code of Napoli is 'NA' which is treated as null value in pandas DataFrame,\n",
    "# therefore changing the state code of Napoli from 'NA' to 'NL'\n",
    "customers['State Code'] = customers['State Code'].fillna('NL')"
   ]
  },
  {
   "cell_type": "code",
   "execution_count": 7,
   "metadata": {},
   "outputs": [
    {
     "name": "stdout",
     "output_type": "stream",
     "text": [
      "<class 'pandas.core.frame.DataFrame'>\n",
      "RangeIndex: 15266 entries, 0 to 15265\n",
      "Data columns (total 10 columns):\n",
      " #   Column       Non-Null Count  Dtype \n",
      "---  ------       --------------  ----- \n",
      " 0   CustomerKey  15266 non-null  int64 \n",
      " 1   Gender       15266 non-null  object\n",
      " 2   Name         15266 non-null  object\n",
      " 3   City         15266 non-null  object\n",
      " 4   State Code   15266 non-null  object\n",
      " 5   State        15266 non-null  object\n",
      " 6   Zip Code     15266 non-null  object\n",
      " 7   Country      15266 non-null  object\n",
      " 8   Continent    15266 non-null  object\n",
      " 9   Birthday     15266 non-null  object\n",
      "dtypes: int64(1), object(9)\n",
      "memory usage: 1.2+ MB\n"
     ]
    }
   ],
   "source": [
    "# again checking for any null value\n",
    "customers.info()"
   ]
  },
  {
   "cell_type": "code",
   "execution_count": 8,
   "metadata": {},
   "outputs": [
    {
     "name": "stdout",
     "output_type": "stream",
     "text": [
      "<class 'pandas.core.frame.DataFrame'>\n",
      "RangeIndex: 2517 entries, 0 to 2516\n",
      "Data columns (total 10 columns):\n",
      " #   Column          Non-Null Count  Dtype \n",
      "---  ------          --------------  ----- \n",
      " 0   ProductKey      2517 non-null   int64 \n",
      " 1   Product Name    2517 non-null   object\n",
      " 2   Brand           2517 non-null   object\n",
      " 3   Color           2517 non-null   object\n",
      " 4   Unit Cost USD   2517 non-null   object\n",
      " 5   Unit Price USD  2517 non-null   object\n",
      " 6   SubcategoryKey  2517 non-null   int64 \n",
      " 7   Subcategory     2517 non-null   object\n",
      " 8   CategoryKey     2517 non-null   int64 \n",
      " 9   Category        2517 non-null   object\n",
      "dtypes: int64(3), object(7)\n",
      "memory usage: 196.8+ KB\n"
     ]
    }
   ],
   "source": [
    "# checking for null value in products dataframe\n",
    "products.info()"
   ]
  },
  {
   "cell_type": "code",
   "execution_count": 9,
   "metadata": {},
   "outputs": [
    {
     "name": "stdout",
     "output_type": "stream",
     "text": [
      "<class 'pandas.core.frame.DataFrame'>\n",
      "RangeIndex: 62884 entries, 0 to 62883\n",
      "Data columns (total 9 columns):\n",
      " #   Column         Non-Null Count  Dtype \n",
      "---  ------         --------------  ----- \n",
      " 0   Order Number   62884 non-null  int64 \n",
      " 1   Line Item      62884 non-null  int64 \n",
      " 2   Order Date     62884 non-null  object\n",
      " 3   Delivery Date  13165 non-null  object\n",
      " 4   CustomerKey    62884 non-null  int64 \n",
      " 5   StoreKey       62884 non-null  int64 \n",
      " 6   ProductKey     62884 non-null  int64 \n",
      " 7   Quantity       62884 non-null  int64 \n",
      " 8   Currency Code  62884 non-null  object\n",
      "dtypes: int64(6), object(3)\n",
      "memory usage: 4.3+ MB\n",
      "None\n"
     ]
    }
   ],
   "source": [
    "# checking for null value in Sales dataframe\n",
    "print(sales.info())"
   ]
  },
  {
   "cell_type": "code",
   "execution_count": 10,
   "metadata": {},
   "outputs": [
    {
     "name": "stdout",
     "output_type": "stream",
     "text": [
      "49719\n"
     ]
    }
   ],
   "source": [
    "print(sales['Delivery Date'].isnull().sum())\n",
    "\n"
   ]
  },
  {
   "cell_type": "code",
   "execution_count": 11,
   "metadata": {},
   "outputs": [],
   "source": [
    "# Since delivery date column has more than 50% of its value as null,\n",
    "# we can drop the column\n",
    "sales.drop('Delivery Date', axis=1, inplace=True)\n",
    "# or we can also use sales = sales.drop('Delivery Date', axis=1)"
   ]
  },
  {
   "cell_type": "code",
   "execution_count": 12,
   "metadata": {},
   "outputs": [
    {
     "name": "stdout",
     "output_type": "stream",
     "text": [
      "<class 'pandas.core.frame.DataFrame'>\n",
      "RangeIndex: 62884 entries, 0 to 62883\n",
      "Data columns (total 8 columns):\n",
      " #   Column         Non-Null Count  Dtype \n",
      "---  ------         --------------  ----- \n",
      " 0   Order Number   62884 non-null  int64 \n",
      " 1   Line Item      62884 non-null  int64 \n",
      " 2   Order Date     62884 non-null  object\n",
      " 3   CustomerKey    62884 non-null  int64 \n",
      " 4   StoreKey       62884 non-null  int64 \n",
      " 5   ProductKey     62884 non-null  int64 \n",
      " 6   Quantity       62884 non-null  int64 \n",
      " 7   Currency Code  62884 non-null  object\n",
      "dtypes: int64(6), object(2)\n",
      "memory usage: 3.8+ MB\n"
     ]
    }
   ],
   "source": [
    "# again checking for null values in sales dataframe\n",
    "sales.info()"
   ]
  },
  {
   "cell_type": "code",
   "execution_count": 13,
   "metadata": {},
   "outputs": [
    {
     "name": "stdout",
     "output_type": "stream",
     "text": [
      "<class 'pandas.core.frame.DataFrame'>\n",
      "RangeIndex: 67 entries, 0 to 66\n",
      "Data columns (total 5 columns):\n",
      " #   Column         Non-Null Count  Dtype  \n",
      "---  ------         --------------  -----  \n",
      " 0   StoreKey       67 non-null     int64  \n",
      " 1   Country        67 non-null     object \n",
      " 2   State          67 non-null     object \n",
      " 3   Square Meters  66 non-null     float64\n",
      " 4   Open Date      67 non-null     object \n",
      "dtypes: float64(1), int64(1), object(3)\n",
      "memory usage: 2.7+ KB\n"
     ]
    }
   ],
   "source": [
    "stores.info()"
   ]
  },
  {
   "cell_type": "code",
   "execution_count": null,
   "metadata": {},
   "outputs": [],
   "source": [
    "# one null value of Square Meters in stores dataframe refers to online store."
   ]
  },
  {
   "cell_type": "markdown",
   "metadata": {},
   "source": [
    "### changing the format of date in customes, sales and stores dataframe "
   ]
  },
  {
   "cell_type": "code",
   "execution_count": 14,
   "metadata": {},
   "outputs": [],
   "source": [
    "# changing the format of date from mm/dd/yyyy to mm-dd-yyyy in 'Birthday' column in customers dataframe.\n",
    "customers['Birthday'] = pd.to_datetime(customers['Birthday']).dt.strftime('%m-%d-%Y')\n",
    "# changing the format of date from mm-dd-yyyy to YYYY-MM-DD in 'Birthday' column in customers dataframe\n",
    "customers['Birthday'] = pd.to_datetime(customers['Birthday'], format='%m-%d-%Y').dt.strftime('%Y-%m-%d')"
   ]
  },
  {
   "cell_type": "code",
   "execution_count": 16,
   "metadata": {},
   "outputs": [
    {
     "data": {
      "text/plain": [
       "2869     1984-11-04\n",
       "14084    1996-08-15\n",
       "11057    1969-05-02\n",
       "6069     1949-06-03\n",
       "9519     1961-05-12\n",
       "Name: Birthday, dtype: object"
      ]
     },
     "execution_count": 16,
     "metadata": {},
     "output_type": "execute_result"
    }
   ],
   "source": [
    "# checking sample data from 'Birthday' column of customers dataframe\n",
    "customers['Birthday'].sample(5)"
   ]
  },
  {
   "cell_type": "code",
   "execution_count": 17,
   "metadata": {},
   "outputs": [
    {
     "data": {
      "text/plain": [
       "43854    2019-10-02\n",
       "42277    2019-09-07\n",
       "11994    2017-09-30\n",
       "30467    2019-01-18\n",
       "8950     2017-05-06\n",
       "38320    2019-07-01\n",
       "35504    2019-05-16\n",
       "27300    2018-12-15\n",
       "14617    2017-12-28\n",
       "7468     2017-01-21\n",
       "Name: Order Date, dtype: object"
      ]
     },
     "execution_count": 17,
     "metadata": {},
     "output_type": "execute_result"
    }
   ],
   "source": [
    "# changing the format of date from mm/dd/yyyy to mm-dd-yyyy in 'Order Date' column in sales dataframe.\n",
    "sales['Order Date'] = pd.to_datetime(sales['Order Date']).dt.strftime('%m-%d-%Y')\n",
    "# changing the format of date from mm-dd-yyyy to YYYY-MM-DD in 'Order Date' column in sales dataframe\n",
    "sales['Order Date'] = pd.to_datetime(sales['Order Date'], format='%m-%d-%Y').dt.strftime('%Y-%m-%d')\n",
    "\n",
    "sales['Order Date'].sample(10)"
   ]
  },
  {
   "cell_type": "code",
   "execution_count": 18,
   "metadata": {},
   "outputs": [
    {
     "data": {
      "text/plain": [
       "19    2012-12-15\n",
       "45    2012-08-08\n",
       "61    2018-06-03\n",
       "42    2015-01-01\n",
       "60    2012-12-15\n",
       "2     2012-01-07\n",
       "6     2007-05-07\n",
       "22    2010-01-01\n",
       "46    2015-04-04\n",
       "52    2012-06-06\n",
       "Name: Open Date, dtype: object"
      ]
     },
     "execution_count": 18,
     "metadata": {},
     "output_type": "execute_result"
    }
   ],
   "source": [
    "# changing the format of date from mm/dd/yyyy to mm-dd-yyyy in 'Open Date' column in stores dataframe.\n",
    "stores['Open Date'] = pd.to_datetime(stores['Open Date']).dt.strftime('%m-%d-%Y')\n",
    "# changing the format of date from mm-dd-yyyy to YYYY-MM-DD in 'Open Date' column in stores dataframe\n",
    "stores['Open Date'] = pd.to_datetime(stores['Open Date'], format='%m-%d-%Y').dt.strftime('%Y-%m-%d')\n",
    "\n",
    "stores['Open Date'].sample(10)"
   ]
  },
  {
   "cell_type": "code",
   "execution_count": 6,
   "metadata": {},
   "outputs": [
    {
     "data": {
      "text/plain": [
       "0    2015-01-01\n",
       "1    2015-01-01\n",
       "2    2015-01-01\n",
       "3    2015-01-01\n",
       "4    2015-01-01\n",
       "Name: Date, dtype: object"
      ]
     },
     "execution_count": 6,
     "metadata": {},
     "output_type": "execute_result"
    }
   ],
   "source": [
    "# changing the format of date from mm/dd/yyyy to mm-dd-yyyy in 'Date' column in exchange_rates dataframe.\n",
    "exchange_rates['Date'] = pd.to_datetime(exchange_rates['Date']).dt.strftime('%m-%d-%Y')\n",
    "# changing the format of date from mm-dd-yyyy to YYYY-MM-DD in 'Date' column in exchange_rates dataframe\n",
    "exchange_rates['Date'] = pd.to_datetime(exchange_rates['Date'], format='%m-%d-%Y').dt.strftime('%Y-%m-%d')\n",
    "\n",
    "exchange_rates['Date'].head()"
   ]
  },
  {
   "cell_type": "markdown",
   "metadata": {},
   "source": [
    "removing the $ symbol in 'Unit Cost USD' and 'Unit Price USD' columns from products dataframe"
   ]
  },
  {
   "cell_type": "code",
   "execution_count": 20,
   "metadata": {},
   "outputs": [],
   "source": [
    "# removing the $ symbol in 'Unit Cost USD' and 'Unit Price USD' columns\n",
    "products['Unit Cost USD'] = products['Unit Cost USD'].str.replace('$', '', regex=False)\n",
    "products['Unit Price USD'] = products['Unit Price USD'].str.replace('$', '', regex=False)"
   ]
  },
  {
   "cell_type": "code",
   "execution_count": 31,
   "metadata": {},
   "outputs": [],
   "source": [
    "# removing the ',' symbol in 'Unit Cost USD' and 'Unit Price USD' columns\n",
    "# and convert to numeric type\n",
    "products['Unit Cost USD'] = products['Unit Cost USD'].str.replace(',', '').astype(float)\n",
    "products['Unit Price USD'] = products['Unit Price USD'].str.replace(',', '').astype(float)"
   ]
  },
  {
   "cell_type": "markdown",
   "metadata": {},
   "source": [
    "storing 5 dataframes into 5 tables in mysql"
   ]
  },
  {
   "cell_type": "code",
   "execution_count": 9,
   "metadata": {},
   "outputs": [],
   "source": [
    "import mysql.connector\n",
    "con = mysql.connector.connect(\n",
    "    host=\"localhost\",\n",
    "    user=\"root\",\n",
    "    password=\"password\"\n",
    ")\n",
    "cursor = con.cursor()\n",
    "query = \"create database IF NOT EXISTS DATASPARK_PROJECT\"\n",
    "cursor.execute(query)\n",
    "query = \"use DATASPARK_PROJECT\"\n",
    "cursor.execute(query)"
   ]
  },
  {
   "cell_type": "code",
   "execution_count": 26,
   "metadata": {},
   "outputs": [],
   "source": [
    "# Create the Customers table\n",
    "query = \"\"\"\n",
    "CREATE TABLE IF NOT EXISTS Customers (\n",
    "    CustomerKey INT,\n",
    "    Gender VARCHAR(10),\n",
    "    Name VARCHAR(50),\n",
    "    City VARCHAR(50),\n",
    "    State_Code VARCHAR(50),\n",
    "    State_Customer VARCHAR(50),\n",
    "    Zip_Code VARCHAR(10),\n",
    "    Country_Customer VARCHAR(50),\n",
    "    Continent VARCHAR(50),\n",
    "    Birthday DATE\n",
    ");\n",
    "\"\"\"\n",
    "cursor.execute(query)\n",
    "con.commit()"
   ]
  },
  {
   "cell_type": "code",
   "execution_count": 33,
   "metadata": {},
   "outputs": [],
   "source": [
    "query = \"\"\"\n",
    "INSERT INTO customers (\n",
    "    CustomerKey, Gender, Name, City, State_Code, State_Customer, \n",
    "    Zip_Code, Country_Customer, Continent, Birthday\n",
    ") VALUES (\n",
    "    %s, %s, %s, %s, %s, %s, %s, %s, %s, %s\n",
    ")\n",
    "\"\"\"\n",
    "for index, row in customers.iterrows():\n",
    "    data = (\n",
    "        row['CustomerKey'],\n",
    "        row['Gender'],\n",
    "        row['Name'],\n",
    "        row['City'],\n",
    "        row['State Code'],\n",
    "        row['State'],\n",
    "        row['Zip Code'],\n",
    "        row['Country'],\n",
    "        row['Continent'],\n",
    "        row['Birthday']\n",
    "    )\n",
    "    try:\n",
    "        cursor.execute(query, data)\n",
    "    except mysql.connector.Error as err:\n",
    "        print(f\"Error inserting row {index}: {err}\")\n",
    "        continue\n",
    "con.commit()"
   ]
  },
  {
   "cell_type": "code",
   "execution_count": 27,
   "metadata": {},
   "outputs": [],
   "source": [
    "query = \"\"\"\n",
    "CREATE TABLE IF NOT EXISTS Products (\n",
    "    ProductKey INT,\n",
    "    Product_Name VARCHAR(100),\n",
    "    Brand VARCHAR(50),\n",
    "    Color VARCHAR(30),\n",
    "    Unit_Cost_USD DECIMAL(10, 2),\n",
    "    Unit_Price_USD DECIMAL(10, 2),\n",
    "    SubcategoryKey INT,\n",
    "    Subcategory VARCHAR(50),\n",
    "    CategoryKey INT,\n",
    "    Category VARCHAR(50)\n",
    ")\n",
    "\"\"\"\n",
    "\n",
    "cursor.execute(query)\n",
    "con.commit()"
   ]
  },
  {
   "cell_type": "code",
   "execution_count": 34,
   "metadata": {},
   "outputs": [],
   "source": [
    "# Query to insert data into the Products table\n",
    "insert_query = \"\"\"\n",
    "INSERT INTO Products (\n",
    "    ProductKey, Product_Name, Brand, Color, Unit_Cost_USD, Unit_Price_USD,\n",
    "    SubcategoryKey, Subcategory, CategoryKey, Category\n",
    ") VALUES (\n",
    "    %s, %s, %s, %s, %s, %s, %s, %s, %s, %s\n",
    ")\n",
    "\"\"\"\n",
    "\n",
    "# Insert data into the Products table\n",
    "for index, row in products.iterrows():\n",
    "    data = (\n",
    "        row['ProductKey'],\n",
    "        row['Product Name'],\n",
    "        row['Brand'],\n",
    "        row['Color'],\n",
    "        row['Unit Cost USD'],\n",
    "        row['Unit Price USD'],\n",
    "        row['SubcategoryKey'],\n",
    "        row['Subcategory'],\n",
    "        row['CategoryKey'],\n",
    "        row['Category']\n",
    "    )\n",
    "    try:\n",
    "        cursor.execute(insert_query, data)\n",
    "    except mysql.connector.Error as err:\n",
    "        print(f\"Error inserting row {index}: {err}\")\n",
    "        continue\n",
    "\n",
    "# Commit the transaction\n",
    "con.commit()"
   ]
  },
  {
   "cell_type": "code",
   "execution_count": 28,
   "metadata": {},
   "outputs": [],
   "source": [
    "# Create the Sales table\n",
    "query = \"\"\"\n",
    "CREATE TABLE IF NOT EXISTS Sales (\n",
    "    Order_Number INT,\n",
    "    Line_Item INT,\n",
    "    Order_Date DATE,\n",
    "    CustomerKey INT,\n",
    "    StoreKey INT,\n",
    "    ProductKey INT,\n",
    "    Quantity INT,\n",
    "    Currency_Code VARCHAR(3)\n",
    "    )\n",
    "\"\"\"\n",
    "cursor.execute(query)\n",
    "con.commit()"
   ]
  },
  {
   "cell_type": "code",
   "execution_count": 35,
   "metadata": {},
   "outputs": [],
   "source": [
    "# Query to insert data into the Sales table\n",
    "insert_query = \"\"\"\n",
    "INSERT INTO Sales (\n",
    "    Order_Number, Line_Item, Order_Date, CustomerKey, StoreKey, ProductKey,\n",
    "    Quantity, Currency_Code\n",
    ") VALUES (\n",
    "    %s, %s, %s, %s, %s, %s, %s, %s\n",
    ")\n",
    "\"\"\"\n",
    "\n",
    "# Insert data into the Sales table\n",
    "for index, row in sales.iterrows():\n",
    "    data = (\n",
    "        row['Order Number'],\n",
    "        row['Line Item'],\n",
    "        row['Order Date'],\n",
    "        row['CustomerKey'],\n",
    "        row['StoreKey'],\n",
    "        row['ProductKey'],\n",
    "        row['Quantity'],\n",
    "        row['Currency Code']\n",
    "    )\n",
    "    try:\n",
    "        cursor.execute(insert_query, data)\n",
    "    except mysql.connector.Error as err:\n",
    "        print(f\"Error inserting row {index}: {err}\")\n",
    "        continue\n",
    "\n",
    "# Commit the transaction\n",
    "con.commit()"
   ]
  },
  {
   "cell_type": "code",
   "execution_count": 29,
   "metadata": {},
   "outputs": [],
   "source": [
    "# Create the Stores table\n",
    "query = \"\"\"\n",
    "CREATE TABLE IF NOT EXISTS Stores (\n",
    "    StoreKey INT,\n",
    "    Country_Store VARCHAR(50),\n",
    "    State_Store VARCHAR(50),\n",
    "    Square_Meters INT,\n",
    "    Open_Date DATE\n",
    ")\n",
    "\"\"\"\n",
    "cursor.execute(query)\n",
    "con.commit()"
   ]
  },
  {
   "cell_type": "code",
   "execution_count": 37,
   "metadata": {},
   "outputs": [],
   "source": [
    "# Query to insert data into the Stores table\n",
    "insert_query = \"\"\"\n",
    "INSERT INTO Stores (\n",
    "    StoreKey, Country_Store, State_Store, Square_Meters, Open_Date\n",
    ") VALUES (\n",
    "    %s, %s, %s, %s, %s\n",
    ")\n",
    "\"\"\"\n",
    "# to resolve the error \"Unknown column 'nan' in 'field list'\"\n",
    "def handle_nan(value):\n",
    "    if pd.isna(value):\n",
    "        return None\n",
    "    return value\n",
    "\n",
    "# Insert data into the Stores table\n",
    "for index, row in stores.iterrows():\n",
    "    data = (\n",
    "        handle_nan(row['StoreKey']),\n",
    "        handle_nan(row['Country']),\n",
    "        handle_nan(row['State']),\n",
    "        handle_nan(row['Square Meters']),\n",
    "        handle_nan(row['Open Date'])\n",
    "    )\n",
    "    try:\n",
    "        cursor.execute(insert_query, data)\n",
    "    except mysql.connector.Error as err:\n",
    "        print(f\"Error inserting row {index}: {err}\")\n",
    "        continue\n",
    "\n",
    "# Commit the transaction\n",
    "con.commit()"
   ]
  },
  {
   "cell_type": "code",
   "execution_count": 30,
   "metadata": {},
   "outputs": [],
   "source": [
    "query = '''create table if not exists Currency_exchange(\n",
    "    Date Date, Currency VARCHAR(3), Exchange DECIMAL(5, 4));'''\n",
    "cursor.execute(query)\n",
    "con.commit()"
   ]
  },
  {
   "cell_type": "code",
   "execution_count": 10,
   "metadata": {},
   "outputs": [],
   "source": [
    "# Query to insert data into the Currency_exchange table\n",
    "insert_query = '''\n",
    "INSERT INTO Currency_exchange (\n",
    "    Date, Currency, Exchange\n",
    ") VALUES (\n",
    "    %s, %s, %s\n",
    ")\n",
    "'''\n",
    "# Insert data into the Currency_exchange table\n",
    "for index, row in exchange_rates.iterrows():\n",
    "    data = (\n",
    "        row['Date'],\n",
    "        row['Currency'],\n",
    "        row['Exchange']\n",
    "    )\n",
    "    try:\n",
    "        cursor.execute(insert_query, data)\n",
    "    except mysql.connector.Error as err:\n",
    "        print(f\"Error inserting row {index}: {err}\")\n",
    "        continue\n",
    "\n",
    "# Commit the transaction\n",
    "con.commit()"
   ]
  }
 ],
 "metadata": {
  "kernelspec": {
   "display_name": "Python 3",
   "language": "python",
   "name": "python3"
  },
  "language_info": {
   "codemirror_mode": {
    "name": "ipython",
    "version": 3
   },
   "file_extension": ".py",
   "mimetype": "text/x-python",
   "name": "python",
   "nbconvert_exporter": "python",
   "pygments_lexer": "ipython3",
   "version": "3.12.2"
  }
 },
 "nbformat": 4,
 "nbformat_minor": 2
}
